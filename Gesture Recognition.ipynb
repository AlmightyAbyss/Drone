{
 "cells": [
  {
   "cell_type": "code",
   "execution_count": 32,
   "id": "1be73e81-06b6-4d44-9f4e-6c7ace40bb44",
   "metadata": {},
   "outputs": [],
   "source": [
    "import pandas as pd"
   ]
  },
  {
   "cell_type": "code",
   "execution_count": 38,
   "id": "33ce5d9c-0552-4eaf-9e82-55aded3c00d2",
   "metadata": {},
   "outputs": [],
   "source": [
    "import numpy as np\n",
    "import matplotlib.pyplot as plt"
   ]
  },
  {
   "cell_type": "markdown",
   "id": "3dfb665f-5b10-4926-9647-e7d09714cc2d",
   "metadata": {},
   "source": [
    "# Read Pre-recorded CSV hand landmarks"
   ]
  },
  {
   "cell_type": "code",
   "execution_count": 33,
   "id": "2ada745f-9027-408d-878e-d5ca62caedc3",
   "metadata": {},
   "outputs": [],
   "source": [
    "df_5f = pd.read_csv('5.csv', header=None)\n",
    "df_5f['label'] = '5F'"
   ]
  },
  {
   "cell_type": "code",
   "execution_count": 34,
   "id": "04a15da9-5c06-4ac2-84e3-88a7ee7acb12",
   "metadata": {},
   "outputs": [],
   "source": [
    "df_5b = pd.read_csv('5b.csv', header=None)\n",
    "df_5b['label'] = '5B'"
   ]
  },
  {
   "cell_type": "code",
   "execution_count": 35,
   "id": "52468184-46ad-4fbb-b432-6c9a60296177",
   "metadata": {},
   "outputs": [],
   "source": [
    "df_2 = pd.read_csv('2.csv', header=None)\n",
    "df_2['label'] = '2'"
   ]
  },
  {
   "cell_type": "code",
   "execution_count": 36,
   "id": "229519e4-beeb-477a-b214-7feda1417671",
   "metadata": {},
   "outputs": [],
   "source": [
    "df_no = pd.read_csv('no.csv', header=None)\n",
    "df_no['label'] = 'no'"
   ]
  },
  {
   "cell_type": "code",
   "execution_count": 37,
   "id": "d103ad5f-c5c8-4612-a05c-314808d5b371",
   "metadata": {},
   "outputs": [],
   "source": [
    "df = pd.concat([df_5f, df_5b, df_2, df_no], ignore_index=True)"
   ]
  },
  {
   "cell_type": "code",
   "execution_count": 39,
   "id": "7bccef87-520d-47be-81af-51ea9670a500",
   "metadata": {},
   "outputs": [],
   "source": [
    "X = df[list(range(63))]\n",
    "y = df['label']"
   ]
  },
  {
   "cell_type": "code",
   "execution_count": 40,
   "id": "3789d7c2-fd84-4800-a76e-d65ee2f8542e",
   "metadata": {},
   "outputs": [],
   "source": [
    "from sklearn.model_selection import train_test_split"
   ]
  },
  {
   "cell_type": "code",
   "execution_count": 41,
   "id": "d78a78f5-aa82-4385-9fc4-df6ed927ae4d",
   "metadata": {},
   "outputs": [],
   "source": [
    "x_train, x_test, y_train, y_test = train_test_split(X, y, test_size=0.2, random_state=0)"
   ]
  },
  {
   "cell_type": "markdown",
   "id": "8dec5bb0-8331-42c5-90aa-4aa8f63ae369",
   "metadata": {},
   "source": [
    "# Using SVM for Recognition"
   ]
  },
  {
   "cell_type": "code",
   "execution_count": 42,
   "id": "b21f1730-2d23-47a3-8076-ccc0b736b8b0",
   "metadata": {},
   "outputs": [],
   "source": [
    "from sklearn.svm import SVC"
   ]
  },
  {
   "cell_type": "code",
   "execution_count": 43,
   "id": "d59970a2-30cb-4b68-be06-f38657d986f6",
   "metadata": {},
   "outputs": [],
   "source": [
    "clf = SVC()"
   ]
  },
  {
   "cell_type": "code",
   "execution_count": 44,
   "id": "8001b057-8021-48b2-89c3-3bea6770805a",
   "metadata": {},
   "outputs": [
    {
     "data": {
      "text/html": [
       "<style>#sk-container-id-2 {color: black;background-color: white;}#sk-container-id-2 pre{padding: 0;}#sk-container-id-2 div.sk-toggleable {background-color: white;}#sk-container-id-2 label.sk-toggleable__label {cursor: pointer;display: block;width: 100%;margin-bottom: 0;padding: 0.3em;box-sizing: border-box;text-align: center;}#sk-container-id-2 label.sk-toggleable__label-arrow:before {content: \"▸\";float: left;margin-right: 0.25em;color: #696969;}#sk-container-id-2 label.sk-toggleable__label-arrow:hover:before {color: black;}#sk-container-id-2 div.sk-estimator:hover label.sk-toggleable__label-arrow:before {color: black;}#sk-container-id-2 div.sk-toggleable__content {max-height: 0;max-width: 0;overflow: hidden;text-align: left;background-color: #f0f8ff;}#sk-container-id-2 div.sk-toggleable__content pre {margin: 0.2em;color: black;border-radius: 0.25em;background-color: #f0f8ff;}#sk-container-id-2 input.sk-toggleable__control:checked~div.sk-toggleable__content {max-height: 200px;max-width: 100%;overflow: auto;}#sk-container-id-2 input.sk-toggleable__control:checked~label.sk-toggleable__label-arrow:before {content: \"▾\";}#sk-container-id-2 div.sk-estimator input.sk-toggleable__control:checked~label.sk-toggleable__label {background-color: #d4ebff;}#sk-container-id-2 div.sk-label input.sk-toggleable__control:checked~label.sk-toggleable__label {background-color: #d4ebff;}#sk-container-id-2 input.sk-hidden--visually {border: 0;clip: rect(1px 1px 1px 1px);clip: rect(1px, 1px, 1px, 1px);height: 1px;margin: -1px;overflow: hidden;padding: 0;position: absolute;width: 1px;}#sk-container-id-2 div.sk-estimator {font-family: monospace;background-color: #f0f8ff;border: 1px dotted black;border-radius: 0.25em;box-sizing: border-box;margin-bottom: 0.5em;}#sk-container-id-2 div.sk-estimator:hover {background-color: #d4ebff;}#sk-container-id-2 div.sk-parallel-item::after {content: \"\";width: 100%;border-bottom: 1px solid gray;flex-grow: 1;}#sk-container-id-2 div.sk-label:hover label.sk-toggleable__label {background-color: #d4ebff;}#sk-container-id-2 div.sk-serial::before {content: \"\";position: absolute;border-left: 1px solid gray;box-sizing: border-box;top: 0;bottom: 0;left: 50%;z-index: 0;}#sk-container-id-2 div.sk-serial {display: flex;flex-direction: column;align-items: center;background-color: white;padding-right: 0.2em;padding-left: 0.2em;position: relative;}#sk-container-id-2 div.sk-item {position: relative;z-index: 1;}#sk-container-id-2 div.sk-parallel {display: flex;align-items: stretch;justify-content: center;background-color: white;position: relative;}#sk-container-id-2 div.sk-item::before, #sk-container-id-2 div.sk-parallel-item::before {content: \"\";position: absolute;border-left: 1px solid gray;box-sizing: border-box;top: 0;bottom: 0;left: 50%;z-index: -1;}#sk-container-id-2 div.sk-parallel-item {display: flex;flex-direction: column;z-index: 1;position: relative;background-color: white;}#sk-container-id-2 div.sk-parallel-item:first-child::after {align-self: flex-end;width: 50%;}#sk-container-id-2 div.sk-parallel-item:last-child::after {align-self: flex-start;width: 50%;}#sk-container-id-2 div.sk-parallel-item:only-child::after {width: 0;}#sk-container-id-2 div.sk-dashed-wrapped {border: 1px dashed gray;margin: 0 0.4em 0.5em 0.4em;box-sizing: border-box;padding-bottom: 0.4em;background-color: white;}#sk-container-id-2 div.sk-label label {font-family: monospace;font-weight: bold;display: inline-block;line-height: 1.2em;}#sk-container-id-2 div.sk-label-container {text-align: center;}#sk-container-id-2 div.sk-container {/* jupyter's `normalize.less` sets `[hidden] { display: none; }` but bootstrap.min.css set `[hidden] { display: none !important; }` so we also need the `!important` here to be able to override the default hidden behavior on the sphinx rendered scikit-learn.org. See: https://github.com/scikit-learn/scikit-learn/issues/21755 */display: inline-block !important;position: relative;}#sk-container-id-2 div.sk-text-repr-fallback {display: none;}</style><div id=\"sk-container-id-2\" class=\"sk-top-container\"><div class=\"sk-text-repr-fallback\"><pre>SVC()</pre><b>In a Jupyter environment, please rerun this cell to show the HTML representation or trust the notebook. <br />On GitHub, the HTML representation is unable to render, please try loading this page with nbviewer.org.</b></div><div class=\"sk-container\" hidden><div class=\"sk-item\"><div class=\"sk-estimator sk-toggleable\"><input class=\"sk-toggleable__control sk-hidden--visually\" id=\"sk-estimator-id-2\" type=\"checkbox\" checked><label for=\"sk-estimator-id-2\" class=\"sk-toggleable__label sk-toggleable__label-arrow\">SVC</label><div class=\"sk-toggleable__content\"><pre>SVC()</pre></div></div></div></div></div>"
      ],
      "text/plain": [
       "SVC()"
      ]
     },
     "execution_count": 44,
     "metadata": {},
     "output_type": "execute_result"
    }
   ],
   "source": [
    "clf.fit(x_train, y_train)"
   ]
  },
  {
   "cell_type": "code",
   "execution_count": 45,
   "id": "49275d9a-a170-4b44-8088-b9e11f673413",
   "metadata": {},
   "outputs": [],
   "source": [
    "y_predict = clf.predict(x_test)"
   ]
  },
  {
   "cell_type": "code",
   "execution_count": 46,
   "id": "824a4db8-b1b5-4da5-b844-07020b9e6631",
   "metadata": {},
   "outputs": [
    {
     "data": {
      "text/plain": [
       "1.0"
      ]
     },
     "execution_count": 46,
     "metadata": {},
     "output_type": "execute_result"
    }
   ],
   "source": [
    "# Calculate the Accuracy\n",
    "clf.score(x_test, y_test)"
   ]
  },
  {
   "cell_type": "code",
   "execution_count": 23,
   "id": "3e051904-0fae-488d-91fe-10388c5de850",
   "metadata": {},
   "outputs": [
    {
     "data": {
      "text/plain": [
       "array(['no', '2', '5F', '2', '5B', '2', 'no', '2', 'no', '5B', 'no', 'no',\n",
       "       '5B', 'no', '5F', '5B', '2', '5B', 'no', '5F', '2', '2', '5B',\n",
       "       '5B', '5B', 'no', '5B', '2', '5F', '5B', '5B', 'no', 'no', '5F',\n",
       "       '5F', '5F', '2', '2', '5B', '5F', 'no', '5B', '2', '5B', '5F',\n",
       "       '5F', '2', '2', '5F', 'no', '5B', '2', '5B', '5B', '5B', '5F',\n",
       "       '5B', '5B', '5B', '5F', '5F', '5F', '5F', '5F', '2', '5F', '2',\n",
       "       '5B', 'no', 'no', '5F', '2', '5B', '2', '5F', '5F', '5F', '5F',\n",
       "       '2', '5F', 'no'], dtype=object)"
      ]
     },
     "execution_count": 23,
     "metadata": {},
     "output_type": "execute_result"
    }
   ],
   "source": [
    "y_predict"
   ]
  },
  {
   "cell_type": "code",
   "execution_count": 47,
   "id": "73bb956d-655c-4c77-a471-cee1c2074545",
   "metadata": {},
   "outputs": [
    {
     "data": {
      "text/plain": [
       "array(['5F'], dtype=object)"
      ]
     },
     "execution_count": 47,
     "metadata": {},
     "output_type": "execute_result"
    }
   ],
   "source": [
    "gesture = df.loc[0].to_list()[:-1]\n",
    "clf.predict([gesture])"
   ]
  },
  {
   "cell_type": "markdown",
   "id": "80d711f5-f47e-44c3-8115-6fabc87a0f55",
   "metadata": {},
   "source": [
    "# Save Model"
   ]
  },
  {
   "cell_type": "code",
   "execution_count": 48,
   "id": "c35bed10-a798-4188-8382-f3979d779dec",
   "metadata": {},
   "outputs": [
    {
     "data": {
      "text/plain": [
       "['gestures.joblib']"
      ]
     },
     "execution_count": 48,
     "metadata": {},
     "output_type": "execute_result"
    }
   ],
   "source": [
    "from joblib import dump, load\n",
    "dump(clf, 'gestures.joblib') "
   ]
  },
  {
   "cell_type": "code",
   "execution_count": null,
   "id": "4357bc37-cecc-4a4f-8aa4-92f92c6d59b6",
   "metadata": {},
   "outputs": [],
   "source": [
    "clf = load('gestures.joblib') "
   ]
  }
 ],
 "metadata": {
  "kernelspec": {
   "display_name": "Python 3 (ipykernel)",
   "language": "python",
   "name": "python3"
  },
  "language_info": {
   "codemirror_mode": {
    "name": "ipython",
    "version": 3
   },
   "file_extension": ".py",
   "mimetype": "text/x-python",
   "name": "python",
   "nbconvert_exporter": "python",
   "pygments_lexer": "ipython3",
   "version": "3.8.9"
  }
 },
 "nbformat": 4,
 "nbformat_minor": 5
}
